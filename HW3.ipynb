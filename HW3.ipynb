{
  "cells": [
    {
      "cell_type": "markdown",
      "metadata": {
        "id": "view-in-github",
        "colab_type": "text"
      },
      "source": [
        "<a href=\"https://colab.research.google.com/github/abdulnawab916/hw3MachineLearning/blob/main/HW3.ipynb\" target=\"_parent\"><img src=\"https://colab.research.google.com/assets/colab-badge.svg\" alt=\"Open In Colab\"/></a>"
      ]
    },
    {
      "cell_type": "markdown",
      "id": "329de2fb",
      "metadata": {
        "id": "329de2fb"
      },
      "source": [
        "#### Homework3\n",
        "Please explain clearly and include your entire computational work when needed. Should you include any code, please make sure to provide additional comments to explain your solution."
      ]
    },
    {
      "cell_type": "markdown",
      "id": "037db7a3",
      "metadata": {
        "id": "037db7a3"
      },
      "source": [
        "Q1 (30 points) Hyper-parameter Tuning: Provide your coding for this exercise. Your code should run without error and the output should be correct based on your assumptions.\n",
        "- Create a dummy dataset with 3 input features (X) and a numeric output variable (y). Your daatset should have 300 data points. The train:test split is 75:25.\n",
        "- Standardize the input features.\n",
        "- Construct a 3-layer neural network with 2 neurons in the hidden layer and one neuron in the output layer. Use Relu as the activation function in the hidden layer. Use Sigmoid as the activation function in the output layer.\n",
        "- At this step, you are to use grid search to perform hyper-parameter tuning based on regularization and regularization parameter, momentum term, and batch size. For each paramter, try 2 different values. Refer to \"lec11-grid-search.ipynb\" as a reference. You are not allowed to copy-paste the code to solve this assignment. Just use it to learn what to do. Use SGD as your optimization technique.\n",
        "- In your code, report which subset of hyper-parameters give the best model. Then using the best hyper-parameters that you reported, visualize the MSE loss on train and test data over multiple epochs (the number of epochs depends on model convergence).\n",
        "\n",
        "Note: Hyperparameter tuning takes a lot of time to execute. Make sure that you choose the appropriate number of each hyperparameter (preferably 3 of each), and that you allocate enough time to execute your code."
      ]
    },
    {
      "cell_type": "code",
      "execution_count": null,
      "id": "74b5b7fe",
      "metadata": {
        "colab": {
          "base_uri": "https://localhost:8080/",
          "height": 579
        },
        "id": "74b5b7fe",
        "outputId": "654cc37c-4861-4fc6-ce2d-e6cf924e8636"
      },
      "outputs": [
        {
          "output_type": "stream",
          "name": "stderr",
          "text": [
            "<ipython-input-1-c1af3dcf51ef>:33: DeprecationWarning: KerasRegressor is deprecated, use Sci-Keras (https://github.com/adriangb/scikeras) instead. See https://www.adriangb.com/scikeras/stable/migration.html for help migrating.\n",
            "  model = KerasRegressor(build_fn=create_model, verbose=0)\n",
            "/usr/local/lib/python3.10/dist-packages/joblib/externals/loky/backend/fork_exec.py:38: RuntimeWarning: os.fork() was called. os.fork() is incompatible with multithreaded code, and JAX is multithreaded, so this will likely lead to a deadlock.\n",
            "  pid = os.fork()\n"
          ]
        },
        {
          "output_type": "stream",
          "name": "stdout",
          "text": [
            "Best: -12379.158854 using {'batch_size': 40, 'epochs': 100, 'l1': 0.01, 'momentum': 0.9, 'regularization': 'l1'}\n"
          ]
        },
        {
          "output_type": "display_data",
          "data": {
            "text/plain": [
              "<Figure size 640x480 with 1 Axes>"
            ],
            "image/png": "[encoded data removed]"
          },
          "metadata": {}
        }
      ],
      "source": [
        "import numpy as np\n",
        "from sklearn.datasets import make_regression\n",
        "from sklearn.model_selection import train_test_split, GridSearchCV\n",
        "from sklearn.preprocessing import StandardScaler\n",
        "from tensorflow.keras.models import Sequential\n",
        "from tensorflow.keras.layers import Dense\n",
        "from tensorflow.keras.wrappers.scikit_learn import KerasRegressor\n",
        "from tensorflow.keras.optimizers import SGD\n",
        "from matplotlib import pyplot as plt\n",
        "\n",
        "# Generate a dummy dataset\n",
        "X, y = make_regression(n_samples=300, n_features=3, noise=0.1)\n",
        "X_train, X_test, y_train, y_test = train_test_split(X, y, test_size=0.25, random_state=42)\n",
        "\n",
        "# Standardize features\n",
        "scaler = StandardScaler()\n",
        "X_train = scaler.fit_transform(X_train)\n",
        "X_test = scaler.transform(X_test)\n",
        "\n",
        "# Function to create model, required for KerasRegressor\n",
        "def create_model(regularization='l2', l1=0.01, momentum=0.9, batch_size=32):\n",
        "    # create model\n",
        "    model = Sequential([\n",
        "        Dense(2, input_dim=3, activation='relu', kernel_regularizer=regularization),\n",
        "        Dense(1, activation='sigmoid')\n",
        "    ])\n",
        "    # Compile model\n",
        "    optimizer = SGD(learning_rate=0.01, momentum=momentum)\n",
        "    model.compile(loss='mean_squared_error', optimizer=optimizer)\n",
        "    return model\n",
        "\n",
        "# Wrap the model using KerasRegressor\n",
        "model = KerasRegressor(build_fn=create_model, verbose=0)\n",
        "\n",
        "# Define the grid search parameters\n",
        "param_grid = {\n",
        "    'batch_size': [20, 40],\n",
        "    'epochs': [50, 100],\n",
        "    'regularization': ['l1', 'l2'],\n",
        "    'l1': [0.01, 0.005],\n",
        "    'momentum': [0.0, 0.9]\n",
        "}\n",
        "\n",
        "# Create Grid Search\n",
        "grid = GridSearchCV(estimator=model, param_grid=param_grid, n_jobs=-1, cv=3)\n",
        "grid_result = grid.fit(X_train, y_train)\n",
        "\n",
        "# Summarize results\n",
        "best_params = grid_result.best_params_\n",
        "print(\"Best: %f using %s\" % (grid_result.best_score_, grid_result.best_params_))\n",
        "\n",
        "# Training the best model to visualize loss\n",
        "best_model = create_model(\n",
        "    regularization=best_params['regularization'],\n",
        "    l1=best_params['l1'],\n",
        "    momentum=best_params['momentum'],\n",
        "    batch_size=best_params['batch_size']\n",
        ")\n",
        "history = best_model.fit(X_train, y_train, validation_data=(X_test, y_test), epochs=best_params['epochs'], batch_size=best_params['batch_size'], verbose=0)\n",
        "\n",
        "# Visualizing the MSE loss\n",
        "plt.plot(history.history['loss'], label='Train Loss')\n",
        "plt.plot(history.history['val_loss'], label='Test Loss')\n",
        "plt.title('Model Loss')\n",
        "plt.ylabel('Loss')\n",
        "plt.xlabel('Epoch')\n",
        "plt.legend()\n",
        "plt.show()\n",
        "\n",
        "\n",
        "# REFERENCES #\n",
        "# Library and Function References:\n",
        "# 1. NumPy (numpy as np): Used for large, multi-dimensional arrays and matrices.\n",
        "# 2. Scikit-learn:\n",
        "# make_regression(): Generates a random regression problem.\n",
        "# train_test_split(): Splits data into random train and test subsets.\n",
        "# GridSearchCV: Searches over specified parameter values for an estimator.\n",
        "# StandardScaler: Standardizes features by removing the mean and scaling to unit variance.\n",
        "# 3. TensorFlow/Keras:\n",
        "# Sequential: Linear stack of layers.\n",
        "# Dense: Regular densely-connected NN layer.\n",
        "# KerasRegressor: Keras implementation for scikit-learn regressor API.\n",
        "# SGD: Stochastic Gradient Descent optimizer.\n",
        "# 4. Matplotlib (pyplot): Used for 2D plotting, capable of producing publication-quality figures."
      ]
    },
    {
      "cell_type": "markdown",
      "id": "df2a7294",
      "metadata": {
        "id": "df2a7294"
      },
      "source": [
        "Q2- (30 points) Given the information below, use Naïve Bayes to determine whether File 6 belongs to class label \"Spam\" or \"Ham\" given its features. Answering following questions clearly and accurately. Provide your computational work.\n",
        "![Generated Dataset](tbl1.jpg)\n",
        "- What are the prior probabilities P(Spam), P(Ham)?\n",
        "- Compute the required conditional probabilitues corresponding to the parameters of the model by filling the table below.\n",
        "![Generated Dataset](tbl2.jpg)\n",
        "- What is the probability of File 6 being a Spam? What is the probability of File 6 being a Ham? What can you conclude about the category of File 6? Justify your answer."
      ]
    },
    {
      "cell_type": "markdown",
      "source": [
        "Answer for Question 2:\n",
        "\n",
        "I have attached files to my github as my response for question 2.\n",
        "\n",
        "\n",
        "They are in PDF form."
      ],
      "metadata": {
        "id": "Q8Lj6Xdg5WMT"
      },
      "id": "Q8Lj6Xdg5WMT"
    },
    {
      "cell_type": "markdown",
      "id": "e716ef5d",
      "metadata": {
        "id": "e716ef5d"
      },
      "source": [
        "Q3- (6 points) A patient with a positive test wants to know how probable it is to have flu. Find the probability given the information below and provide your computational work.\n",
        "Prior probability: P(not flu)=0.15\n",
        "Likelihood: P(positive│ flu)=0.85\n",
        "Evidence: P(negative)=0.25\n"
      ]
    },
    {
      "cell_type": "markdown",
      "id": "ff131aca",
      "metadata": {
        "id": "ff131aca"
      },
      "source": [
        "for this problem, we have to use the baye's theorem:\n",
        "$$\n",
        "P(\\text{flu} \\mid \\text{positive}) = \\frac{P(\\text{positive} \\mid \\text{flu}) \\times P(\\text{flu})}{P(\\text{positive})}\n",
        "$$\n",
        "\n",
        "here are some of the given:\n",
        "(There was some algebraic manipulation that had to be done in order to obtain certain values)\n",
        "- $P(\\text{flu}) = 0.85$\n",
        "- $P(\\text{positive} \\mid \\text{flu}) = 0.85$\n",
        "- $P(\\text{positive}) = 1 - P(\\text{negative}) = 1 - 0.25 = 0.75$\n",
        "\n",
        "now we plug the values into the equation that we have set up:\n",
        "$$\n",
        "P(\\text{flu} \\mid \\text{positive}) = \\frac{0.85 \\times 0.85}{0.75} = \\frac{0.7225}{0.75} \\approx 0.9633\n",
        "$$\n",
        "\n",
        "now, we know that the probability that a patient has the flu given that they tested positive is approximately $0.9633$, or $96.33\\%$!"
      ]
    },
    {
      "cell_type": "markdown",
      "id": "3b6c8314",
      "metadata": {
        "id": "3b6c8314"
      },
      "source": [
        "Q4- (8 points) Imagine you are tasked with developing a binary classification model to classify emails as either \"spam\" or \"not spam\" based on their content. The observations in the dataset cover several aspects listed in the following table:\n",
        "\n",
        "\n",
        "![Generated Dataset](tbl3.jpg)\n",
        "\n",
        "You have two different approaches in mind: Naive Bayes classification and Bayesian networks. Answer the following question in the context of this email classification (as “spam” or “not spam”):\n",
        "Discuss the assumptions in Naïve Bayes and Bayesian Network algorithms, as well as advantages and disadvantages of using Naïve Bayes and Bayesian Network classification. Your answer should address the following points:\n",
        "-\tWhat aspects of the problem make Naïve Bayes classification suitable or unsuitable?\n",
        "-\tSimilarly, analyze the suitability of using Bayesian networks for the email classification problem and indicate what unique characteristics of Bayesian networks make them a potentially good or bad choice for this task?\n",
        "-\tDiscuss these methods in terms of their computational efficiency and classification accuracy, considering the features listed in the above table.\n",
        "Include your answer in a table with the following layout:\n",
        "![Generated Dataset](tbl4.jpg)\n"
      ]
    },
    {
      "cell_type": "markdown",
      "source": [
        "For the answer to question 4, we also have the files attached as a PDF."
      ],
      "metadata": {
        "id": "WjamcATr5oi-"
      },
      "id": "WjamcATr5oi-"
    },
    {
      "cell_type": "markdown",
      "id": "f5505484",
      "metadata": {
        "id": "f5505484"
      },
      "source": [
        "Q5- (6 points) Given the following probability table, build a Naïve Bayes classifier using the Discriminant function. Can this classifier accurately predict if a patient is healthy/not-healthy based on the Test results? (e.g., can a positive test result indicate with high confidence that a patient has flu? How about a negative test result?) Show your mathematical work with proper explanation. Please note that P(Healthy) = 0.25.\n",
        "![Generated Dataset](tbl5.jpg)"
      ]
    },
    {
      "cell_type": "markdown",
      "source": [
        "Question 5 Answer:\n",
        "Given this following table, we can determine if the classifier can accurately predict if the patient is healthy or not healthy in the following way.\n",
        "\n",
        "I have the following mathematical work attached in a seperate folder.\n",
        "\n",
        "\n",
        "\n",
        "For the response to most of these questions, the computational work\n",
        "is show seperately."
      ],
      "metadata": {
        "id": "Lygwq21157kW"
      },
      "id": "Lygwq21157kW"
    },
    {
      "cell_type": "markdown",
      "id": "117bf9dc",
      "metadata": {
        "id": "117bf9dc"
      },
      "source": [
        "Q6- (15 points) Consider the table of measured data given below:\n",
        "![Generated Dataset](pic1.png)\n",
        "\n",
        "The goal is to build a decision tree model to predict the outcome y using the two features $x_1$,$x_2$, where each feature $x_1$,$x_2$ can take one of the three values: a, b, c.\n",
        "\n",
        "hint:\n",
        "- $log_2 (0.4) = -1.32 $                   \n",
        "- $log_2 (0.6) = -0.73 $\n",
        "- $log_2 (0.5) = -1 $                        \n",
        "- $log_2 (0.75) = -0.41 $\n",
        "- $log_2 (0.25) = -2 $\n",
        "\n",
        "\n",
        "Answer the following questions:\n",
        "\n",
        "- Compute the entropy of the target variable y (round to 3 decimal places). Include all your assumptions. Entropy(y) = ?\n",
        "- Compute the information gain for $x_1$ and $x_2$ attributes and show your work. Based on the computed values, indicate which attribute ($x_1$ or $x_2$) should be selected first in the split strategy during model construction. Show your computation and use the provided contingency table below, which is obtained from the information in the dataset in the table above.\n",
        "\n",
        "![Generated Dataset](cont.jpg)\n",
        "\n"
      ]
    },
    {
      "cell_type": "markdown",
      "source": [
        "Answer to question 6:\n",
        "\n",
        "A sneak peak into the solutions that I had are the following...\n",
        "\n",
        "We have computed the values for Entropy(Y), where Y can be either 0 or be 1, and we also show which feature we would select first.\n",
        "\n",
        "In this particular case, we select the feature X2, since it has a higher IG (information gain)\n",
        "\n",
        "the computational work is attached in this folder!\n"
      ],
      "metadata": {
        "id": "-1WeXr6L6FIN"
      },
      "id": "-1WeXr6L6FIN"
    },
    {
      "cell_type": "markdown",
      "id": "e72badfd",
      "metadata": {
        "id": "e72badfd"
      },
      "source": [
        "Q7- (5 points) Explain how Random Forest algorithm controls the number of features to find the best split?"
      ]
    },
    {
      "cell_type": "markdown",
      "id": "e0388bf4",
      "metadata": {
        "id": "e0388bf4"
      },
      "source": [
        "Q7 Answer:\n",
        "The Random Forest algorithm controls the number of features to find the best split by incorporating a hyperparameter in it. This hyperparameter can either have a value of P/3, or sqrt(P). This value is essentially the number of features at each tree. So for one tree, you would have a randomized value for the input features. And then at another tree, you would have another value that would be representative of this."
      ]
    },
    {
      "cell_type": "markdown",
      "id": "e127590e",
      "metadata": {
        "id": "e127590e"
      },
      "source": [
        "Q8-(Optional Question- 8 extra points based on the completeness of the answer) Based on the optional document \"Lec12-MultivariateDistributions.pdf\", describe how conditional probabilities are computed in training a Bayesian Network model when the random variables are continuous. Provide an example.  "
      ]
    }
  ],
  "metadata": {
    "kernelspec": {
      "display_name": "Python 3",
      "language": "python",
      "name": "python3"
    },
    "language_info": {
      "codemirror_mode": {
        "name": "ipython",
        "version": 3
      },
      "file_extension": ".py",
      "mimetype": "text/x-python",
      "name": "python",
      "nbconvert_exporter": "python",
      "pygments_lexer": "ipython3",
      "version": "3.9.6"
    },
    "colab": {
      "provenance": [],
      "include_colab_link": true
    }
  },
  "nbformat": 4,
  "nbformat_minor": 5
}